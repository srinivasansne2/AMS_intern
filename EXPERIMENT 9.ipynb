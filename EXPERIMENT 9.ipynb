{
 "cells": [
  {
   "cell_type": "markdown",
   "id": "ebb7b33f",
   "metadata": {},
   "source": [
    "# EXPERIMENT -9"
   ]
  },
  {
   "cell_type": "markdown",
   "id": "45c32ea3",
   "metadata": {},
   "source": [
    "## HORIZONTAL AND VERTICAL STACKING OF IMAGES"
   ]
  },
  {
   "cell_type": "code",
   "execution_count": 17,
   "id": "c62a2c1e",
   "metadata": {},
   "outputs": [],
   "source": [
    "# import cv2 library\n",
    "import cv2"
   ]
  },
  {
   "cell_type": "code",
   "execution_count": 18,
   "id": "a6a8c82a",
   "metadata": {},
   "outputs": [],
   "source": [
    "# read the images\n",
    "img1 = cv2.imread(r\"C:\\Users\\ASUS\\Desktop\\Horizontal.jpg\")\n",
    "img2 = cv2.imread(r\"C:\\Users\\ASUS\\Desktop\\Vertical.jpg\")"
   ]
  },
  {
   "cell_type": "markdown",
   "id": "d92b18c0",
   "metadata": {},
   "source": [
    "### Vertical stacking"
   ]
  },
  {
   "cell_type": "code",
   "execution_count": 19,
   "id": "03ddeed5",
   "metadata": {},
   "outputs": [],
   "source": [
    "# vertically concatenates images \n",
    "# of same width \n",
    "verticalimage = cv2.vconcat([img1, img1,img1])\n",
    "  \n",
    "# show the output image\n",
    "cv2.imshow('vertical image', verticalimage)\n",
    "\n",
    "cv2.waitKey(0)\n",
    "cv2.destroyAllWindows()"
   ]
  },
  {
   "cell_type": "markdown",
   "id": "6546b0d4",
   "metadata": {},
   "source": [
    "### Horizontal stacking"
   ]
  },
  {
   "cell_type": "code",
   "execution_count": 20,
   "id": "cd860744",
   "metadata": {},
   "outputs": [],
   "source": [
    "# horizontally concatenates images\n",
    "# of same height \n",
    "horizontalimage= cv2.hconcat([img2, img2,img2])\n",
    "  \n",
    "# show the output image\n",
    "cv2.imshow('horizontal image', horizontalimage)\n",
    "\n",
    "cv2.waitKey(0)\n",
    "cv2.destroyAllWindows()"
   ]
  },
  {
   "cell_type": "markdown",
   "id": "2259afdc",
   "metadata": {},
   "source": [
    "### Concatenate images of different widths vertically: "
   ]
  },
  {
   "cell_type": "markdown",
   "id": "323ef3ee",
   "metadata": {},
   "source": [
    "It is used to combine images of different widths. here shape[0] represents height and shape[1] represents width."
   ]
  },
  {
   "cell_type": "code",
   "execution_count": 22,
   "id": "f4b5baaa",
   "metadata": {},
   "outputs": [],
   "source": [
    "# define a function for vertically concatenating images of different widths \n",
    "\n",
    "def vconcat_resize(img_list, interpolation = cv2.INTER_CUBIC):\n",
    "\n",
    "    # take minimum width\n",
    "    w_min = min(img.shape[1] for img in img_list)\n",
    "      \n",
    "    # resizing images\n",
    "    im_list_resize = [cv2.resize(img,(w_min, int(img.shape[0] * w_min / img.shape[1])),interpolation = interpolation) for img in img_list]\n",
    "    \n",
    "    # return final image\n",
    "    return cv2.vconcat(im_list_resize)\n",
    "  \n",
    "# function calling\n",
    "img_v_resize = vconcat_resize([img1, img2, img1,img2])\n",
    "  \n",
    "# show the output image\n",
    "cv2.imshow('vconcat_resize.jpg', img_v_resize)\n",
    "\n",
    "cv2.waitKey(0)\n",
    "cv2.destroyAllWindows()"
   ]
  },
  {
   "cell_type": "markdown",
   "id": "aed81451",
   "metadata": {},
   "source": [
    "Sytax of cv2.resize(src,dsize[,dst[,fx[,fy[,interpolation]]]])\n",
    "interpolation may take the values:\n",
    "    INTER_NEAREST\n",
    "    INTER_AREA\n",
    "    INTER_LINEAR(default)\n",
    "    INTER_CUBIC (interpolation over 4x4 pixel)\n",
    "    INTER_LANCZOS4(interpolation over 8x8 pixel)"
   ]
  },
  {
   "cell_type": "markdown",
   "id": "070ae62e",
   "metadata": {},
   "source": [
    "### Concatenate images of different heights horizontally"
   ]
  },
  {
   "cell_type": "code",
   "execution_count": 23,
   "id": "ef1efc50",
   "metadata": {},
   "outputs": [],
   "source": [
    "# define a function for horizontally concatenating images of different heights \n",
    "\n",
    "def hconcat_resize(img_list, interpolation = cv2.INTER_CUBIC):\n",
    "    # take minimum hights\n",
    "    h_min = min(img.shape[0] for img in img_list)\n",
    "      \n",
    "    # image resizing \n",
    "    im_list_resize = [cv2.resize(img,(int(img.shape[1] * h_min / img.shape[0]), h_min), interpolation = interpolation) for img in img_list]\n",
    "      \n",
    "    # return final image\n",
    "    return cv2.hconcat(im_list_resize)\n",
    "  \n",
    "# function calling\n",
    "img_h_resize = hconcat_resize([img1, img2, img1])\n",
    "  \n",
    "# show the Output image\n",
    "cv2.imshow('hconcat_resize.jpg', img_h_resize)\n",
    "\n",
    "cv2.waitKey(0)\n",
    "cv2.destroyAllWindows()"
   ]
  },
  {
   "cell_type": "markdown",
   "id": "266e74d0",
   "metadata": {},
   "source": [
    "### Concatenate images of the same size vertically and horizontally"
   ]
  },
  {
   "cell_type": "code",
   "execution_count": 24,
   "id": "edb290b3",
   "metadata": {},
   "outputs": [],
   "source": [
    "# define a function for vertically concatenating images of the  same size  and horizontally\n",
    "\n",
    "def concat_vh(list_2d):\n",
    "    \n",
    "      # return final image\n",
    "    return cv2.vconcat([cv2.hconcat(list_h) for list_h in list_2d])\n",
    "\n",
    "# image resizing\n",
    "img1_s = cv2.resize(img1, dsize = (0,0),fx = 0.5, fy = 0.5)\n",
    "  \n",
    "# function calling\n",
    "img_tile = concat_vh([[img1_s, img1_s, img1_s],\n",
    "                      [img1_s, img1_s, img1_s],\n",
    "                      [img1_s, img1_s, img1_s]])\n",
    "# show the output image\n",
    "cv2.imshow('concat_vh.jpg', img_tile)\n",
    "\n",
    "cv2.waitKey(0)\n",
    "cv2.destroyAllWindows()"
   ]
  },
  {
   "cell_type": "markdown",
   "id": "588c96d2",
   "metadata": {},
   "source": [
    "### Concatenate images of different sizes in vertical and horizontal tiles"
   ]
  },
  {
   "cell_type": "code",
   "execution_count": 25,
   "id": "2e45386a",
   "metadata": {},
   "outputs": [],
   "source": [
    "# define a function for concatenating images of different sizes in vertical and horizontal tiles\n",
    "\n",
    "def concat_tile_resize(list_2d, interpolation = cv2.INTER_CUBIC):\n",
    "     \n",
    "        # function calling for every list of images\n",
    "    img_list_v = [hconcat_resize(list_h, interpolation = cv2.INTER_CUBIC) for list_h in list_2d]\n",
    "      \n",
    "    # return final image\n",
    "    return vconcat_resize(img_list_v, interpolation=cv2.INTER_CUBIC)\n",
    "  \n",
    "# function calling\n",
    "im_tile_resize = concat_tile_resize([[img2],\n",
    "                                     [img1, img2,img1, img2, img1],\n",
    "                                     [img1, img1, img2]])\n",
    "# show the image\n",
    "cv2.imshow('concat_tile_resize.jpg', im_tile_resize)\n",
    "\n",
    "cv2.waitKey(0)\n",
    "cv2.destroyAllWindows()"
   ]
  },
  {
   "cell_type": "code",
   "execution_count": null,
   "id": "1d5707c8",
   "metadata": {},
   "outputs": [],
   "source": []
  }
 ],
 "metadata": {
  "kernelspec": {
   "display_name": "Python 3",
   "language": "python",
   "name": "python3"
  },
  "language_info": {
   "codemirror_mode": {
    "name": "ipython",
    "version": 3
   },
   "file_extension": ".py",
   "mimetype": "text/x-python",
   "name": "python",
   "nbconvert_exporter": "python",
   "pygments_lexer": "ipython3",
   "version": "3.8.8"
  }
 },
 "nbformat": 4,
 "nbformat_minor": 5
}
