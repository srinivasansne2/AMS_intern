{
 "cells": [
  {
   "cell_type": "markdown",
   "metadata": {},
   "source": [
    "# EXPERIMENT-1"
   ]
  },
  {
   "cell_type": "markdown",
   "metadata": {},
   "source": [
    "# #RGB IMAGE"
   ]
  },
  {
   "cell_type": "code",
   "execution_count": 1,
   "metadata": {},
   "outputs": [],
   "source": [
    "# import cv2 module\n",
    "import cv2"
   ]
  },
  {
   "cell_type": "code",
   "execution_count": 14,
   "metadata": {},
   "outputs": [],
   "source": [
    "# read the image\n",
    "img = cv2.imread(r\"C:\\Users\\ASUS\\Desktop\\ROSE.jpeg\")"
   ]
  },
  {
   "cell_type": "code",
   "execution_count": 15,
   "metadata": {},
   "outputs": [],
   "source": [
    "#convert the image to RGB (images are read in BGR in OpenCV)\n",
    "RGB = cv2.cvtColor(img, cv2.COLOR_BGR2RGB)"
   ]
  },
  {
   "cell_type": "code",
   "execution_count": 16,
   "metadata": {},
   "outputs": [],
   "source": [
    "cv2.imshow(\"output\", RGB)\n",
    "cv2.waitKey(0)\n",
    "cv2.destroyAllWindows()"
   ]
  },
  {
   "cell_type": "code",
   "execution_count": 5,
   "metadata": {},
   "outputs": [
    {
     "name": "stdout",
     "output_type": "stream",
     "text": [
      "(222, 202, 3)\n"
     ]
    }
   ],
   "source": [
    "# shape prints the tuple (height,width,channels)\n",
    "print(img.shape)"
   ]
  },
  {
   "cell_type": "code",
   "execution_count": 17,
   "metadata": {},
   "outputs": [
    {
     "name": "stdout",
     "output_type": "stream",
     "text": [
      "[[[255 255 255]\n",
      "  [ 18  15  15]\n",
      "  [ 18  15  15]\n",
      "  ...\n",
      "  [  0  19  34]\n",
      "  [ 11  32  47]\n",
      "  [ 23  46  62]]\n",
      "\n",
      " [[255 255 255]\n",
      "  [ 16  15  15]\n",
      "  [ 16  15  15]\n",
      "  ...\n",
      "  [  0   2  11]\n",
      "  [  0   9  18]\n",
      "  [  1  18  28]]\n",
      "\n",
      " [[255 255 255]\n",
      "  [ 14  13  13]\n",
      "  [ 14  13  13]\n",
      "  ...\n",
      "  [  0   6  11]\n",
      "  [  0   7  14]\n",
      "  [  0  13  18]]\n",
      "\n",
      " ...\n",
      "\n",
      " [[255 255 255]\n",
      "  [  4  34  37]\n",
      "  [ 27  56  59]\n",
      "  ...\n",
      "  [146 139 139]\n",
      "  [148 139 140]\n",
      "  [149 139 140]]\n",
      "\n",
      " [[255 255 255]\n",
      "  [ 17  49  52]\n",
      "  [ 35  66  69]\n",
      "  ...\n",
      "  [150 140 143]\n",
      "  [151 140 143]\n",
      "  [152 140 144]]\n",
      "\n",
      " [[255 255 255]\n",
      "  [ 50  83  84]\n",
      "  [ 61  93  95]\n",
      "  ...\n",
      "  [152 142 147]\n",
      "  [153 142 147]\n",
      "  [154 143 148]]]\n"
     ]
    }
   ],
   "source": [
    "# img will be a numpy array of the above shape\n",
    "print(img)"
   ]
  },
  {
   "cell_type": "markdown",
   "metadata": {},
   "source": [
    "Here 225*225 pixels are there and every pixel is an array of 3 integers (Red, Green, Blue)"
   ]
  },
  {
   "cell_type": "markdown",
   "metadata": {},
   "source": [
    "### The single pixel can be extracted using indexing"
   ]
  },
  {
   "cell_type": "code",
   "execution_count": 18,
   "metadata": {},
   "outputs": [
    {
     "name": "stdout",
     "output_type": "stream",
     "text": [
      "[255 255 255]\n"
     ]
    }
   ],
   "source": [
    "# this is pixel of 0th row and 0th column\n",
    "print(img[1][0])"
   ]
  },
  {
   "cell_type": "markdown",
   "metadata": {},
   "source": [
    "# Grayscale Image"
   ]
  },
  {
   "cell_type": "markdown",
   "metadata": {},
   "source": [
    "### Get grayscale then the pixel will just be a number representing the intensity of white."
   ]
  },
  {
   "cell_type": "code",
   "execution_count": 4,
   "metadata": {},
   "outputs": [],
   "source": [
    "import cv2"
   ]
  }
 ],
 "metadata": {
  "kernelspec": {
   "display_name": "Python 3",
   "language": "python",
   "name": "python3"
  },
  "language_info": {
   "codemirror_mode": {
    "name": "ipython",
    "version": 3
   },
   "file_extension": ".py",
   "mimetype": "text/x-python",
   "name": "python",
   "nbconvert_exporter": "python",
   "pygments_lexer": "ipython3",
   "version": "3.8.8"
  }
 },
 "nbformat": 4,
 "nbformat_minor": 4
}
